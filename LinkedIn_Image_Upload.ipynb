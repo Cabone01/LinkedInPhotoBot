{
 "cells": [
  {
   "cell_type": "code",
   "execution_count": 197,
   "id": "5796d605",
   "metadata": {},
   "outputs": [],
   "source": [
    "import os\n",
    "import time\n",
    "import selenium\n",
    "from selenium import webdriver\n",
    "from selenium.webdriver.common.by import By\n",
    "from selenium.webdriver.support.wait import WebDriverWait\n",
    "from selenium.common.exceptions import NoSuchElementException\n",
    "from selenium.webdriver.support import expected_conditions as EC"
   ]
  },
  {
   "cell_type": "code",
   "execution_count": 76,
   "id": "4d7c2e69",
   "metadata": {},
   "outputs": [],
   "source": [
    "driver = webdriver.Chrome()\n",
    "driver.get('https://www.linkedin.com/')"
   ]
  },
  {
   "cell_type": "code",
   "execution_count": 77,
   "id": "d83248c7",
   "metadata": {},
   "outputs": [
    {
     "data": {
      "text/plain": [
       "<selenium.webdriver.remote.webelement.WebElement (session=\"5377ff27b343e83bcbb78b85616dd9cd\", element=\"df1a440f-6f1f-48bb-ad9f-4fa905d0d45b\")>"
      ]
     },
     "execution_count": 77,
     "metadata": {},
     "output_type": "execute_result"
    }
   ],
   "source": [
    "wait = WebDriverWait(driver, 20)\n",
    "wait.until(EC.visibility_of_element_located((By.ID, 'session_key')))"
   ]
  },
  {
   "cell_type": "code",
   "execution_count": 78,
   "id": "daf7635c",
   "metadata": {},
   "outputs": [],
   "source": [
    "id_box = driver.find_element('name', 'session_key')\n",
    "id_box.send_keys('')"
   ]
  },
  {
   "cell_type": "code",
   "execution_count": 79,
   "id": "a9613ccf",
   "metadata": {},
   "outputs": [],
   "source": [
    "id_box = driver.find_element('name', 'session_password')\n",
    "id_box.send_keys('')"
   ]
  },
  {
   "cell_type": "code",
   "execution_count": 80,
   "id": "216a74b5",
   "metadata": {},
   "outputs": [],
   "source": [
    "login_button = driver.find_element(By.CSS_SELECTOR, 'button.btn-primary')\n",
    "login_button.click()"
   ]
  },
  {
   "cell_type": "code",
   "execution_count": 81,
   "id": "552a0885",
   "metadata": {},
   "outputs": [],
   "source": [
    "icon_list = driver.find_element(By.CLASS_NAME, 'global-nav__primary-items')\n",
    "icons = icon_list.find_elements(By.TAG_NAME, \"li\")\n",
    "icons[3].click()"
   ]
  },
  {
   "cell_type": "code",
   "execution_count": 174,
   "id": "491481e2",
   "metadata": {},
   "outputs": [
    {
     "name": "stdout",
     "output_type": "stream",
     "text": [
      "Nothing\n",
      "Nothing\n",
      "Nothing\n",
      "Nothing\n",
      "Nothing\n",
      "Nothing\n",
      "Nothing\n"
     ]
    }
   ],
   "source": [
    "wait.until(EC.visibility_of_element_located((By.CLASS_NAME, 'msg-conversation-listitem__participant-names')))\n",
    "msg_boxs = driver.find_element(By.CLASS_NAME, 'msg-conversations-container--inbox-shortcuts')\n",
    "msg_list = msg_boxs.find_elements(By.TAG_NAME, \"li\")\n",
    "\n",
    "msg_names = []\n",
    "for msg in msg_list:\n",
    "    try:\n",
    "        msg_names.append(msg.find_element(By.CLASS_NAME, 'msg-conversation-card__participant-names').text)\n",
    "        time.sleep(1)\n",
    "    except NoSuchElementException:\n",
    "        print(\"Nothing\")"
   ]
  },
  {
   "cell_type": "code",
   "execution_count": 175,
   "id": "fa9eb8b9",
   "metadata": {},
   "outputs": [
    {
     "data": {
      "text/plain": [
       "'Tableau'"
      ]
     },
     "execution_count": 175,
     "metadata": {},
     "output_type": "execute_result"
    }
   ],
   "source": [
    "msg_names[4]"
   ]
  },
  {
   "cell_type": "code",
   "execution_count": 195,
   "id": "e035cbe6",
   "metadata": {},
   "outputs": [],
   "source": [
    "wait.until(EC.visibility_of_element_located((By.CLASS_NAME, 'msg-conversation-listitem__participant-names')))\n",
    "msg_boxs = driver.find_element(By.CLASS_NAME, 'msg-conversations-container__conversations-list')\n",
    "certain_msg = msg_boxs.find_element(By.XPATH, \"//li/div/a/div[2]/div/div[1]/h3[text()='David Herrod']\")\n",
    "certain_msg.click()"
   ]
  },
  {
   "cell_type": "code",
   "execution_count": 221,
   "id": "48ae8d83",
   "metadata": {},
   "outputs": [],
   "source": [
    "text_box = driver.find_element(By.CLASS_NAME, 'msg-form__contenteditable')\n",
    "text_box.send_keys(os.getcwd() + '\\\\franken_girl.jpg')"
   ]
  },
  {
   "cell_type": "code",
   "execution_count": 227,
   "id": "738f0133",
   "metadata": {},
   "outputs": [],
   "source": [
    "JS_DROP_FILE = \"\"\"\n",
    "    var target = arguments[0],\n",
    "        offsetX = arguments[1],\n",
    "        offsetY = arguments[2],\n",
    "        document = target.ownerDocument || document,\n",
    "        window = document.defaultView || window;\n",
    "\n",
    "    var input = document.createElement('INPUT');\n",
    "    input.type = 'file';\n",
    "    input.onchange = function () {\n",
    "      var rect = target.getBoundingClientRect(),\n",
    "          x = rect.left + (offsetX || (rect.width >> 1)),\n",
    "          y = rect.top + (offsetY || (rect.height >> 1)),\n",
    "          dataTransfer = { files: this.files };\n",
    "\n",
    "      ['dragenter', 'dragover', 'drop'].forEach(function (name) {\n",
    "        var evt = document.createEvent('MouseEvent');\n",
    "        evt.initMouseEvent(name, !0, !0, window, 0, 0, 0, x, y, !1, !1, !1, !1, 0, null);\n",
    "        evt.dataTransfer = dataTransfer;\n",
    "        target.dispatchEvent(evt);\n",
    "      });\n",
    "\n",
    "      setTimeout(function () { document.body.removeChild(input); }, 25);\n",
    "    };\n",
    "    document.body.appendChild(input);\n",
    "    return input;\n",
    "\"\"\"\n",
    "\n",
    "def drag_and_drop_file(drop_target, path):\n",
    "    driver = drop_target.parent\n",
    "    file_input = driver.execute_script(JS_DROP_FILE, drop_target, 0, 0)\n",
    "    file_input.send_keys(path)"
   ]
  },
  {
   "cell_type": "code",
   "execution_count": 238,
   "id": "e2470d63",
   "metadata": {
    "scrolled": true
   },
   "outputs": [],
   "source": [
    "drop_box = driver.find_element(By.CLASS_NAME, 'msg-form__attachment-drag-and-drop-content')\n",
    "drag_and_drop_file(drop_box, os.getcwd() + '\\\\bee_girls.jpg')\n",
    "time.sleep(5)\n",
    "driver.find_element(By.CLASS_NAME, 'msg-form__send-button').click()"
   ]
  },
  {
   "cell_type": "code",
   "execution_count": null,
   "id": "693869b2",
   "metadata": {},
   "outputs": [],
   "source": []
  }
 ],
 "metadata": {
  "kernelspec": {
   "display_name": "Python 3 (ipykernel)",
   "language": "python",
   "name": "python3"
  },
  "language_info": {
   "codemirror_mode": {
    "name": "ipython",
    "version": 3
   },
   "file_extension": ".py",
   "mimetype": "text/x-python",
   "name": "python",
   "nbconvert_exporter": "python",
   "pygments_lexer": "ipython3",
   "version": "3.9.12"
  }
 },
 "nbformat": 4,
 "nbformat_minor": 5
}
